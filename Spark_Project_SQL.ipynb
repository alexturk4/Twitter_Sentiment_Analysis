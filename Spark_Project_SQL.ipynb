{
 "cells": [
  {
   "cell_type": "code",
   "execution_count": 1,
   "metadata": {
    "application/vnd.databricks.v1+cell": {
     "inputWidgets": {},
     "nuid": "6e39f2b1-b361-4cfd-8348-a4b2df3485df",
     "showTitle": false,
     "title": ""
    }
   },
   "outputs": [],
   "source": [
    "from __future__ import print_function\n",
    "from pyspark.sql import SparkSession\n",
    "from pyspark.sql import Row\n",
    "from pyspark.sql.types import *\n",
    "from pyspark import SparkContext\n",
    "from pyspark.sql import SQLContext\n",
    "\n",
    "sc=SparkContext.getOrCreate()\n",
    "sqlContext = SQLContext(sc)"
   ]
  },
  {
   "cell_type": "code",
   "execution_count": 2,
   "metadata": {
    "application/vnd.databricks.v1+cell": {
     "inputWidgets": {},
     "nuid": "fa41391d-19d3-412f-9df8-540e7a722c42",
     "showTitle": false,
     "title": ""
    }
   },
   "outputs": [
    {
     "name": "stdout",
     "output_type": "stream",
     "text": [
      "+--------------------+------------------+-------------------+--------------------+--------------------+-------------------+--------------------+\n",
      "|             address|               lat|               long|            polarity|         rawLocation|       subjectivity|                text|\n",
      "+--------------------+------------------+-------------------+--------------------+--------------------+-------------------+--------------------+\n",
      "|       United States|        39.7837304|       -100.4458825|                 0.0|                USA |                0.0|Get ' em now!! ht...|\n",
      "|G, Watershed Trai...|        33.6238152|        -84.1693827| 0.35833333333333334|         Atlanta, GA| 0.5145833333333333|This is a tragedy...|\n",
      "|Arlington, Tarran...|32.701938999999996| -97.10562379033699|                -1.0|       Arlington, TX|                1.0|This is beyond di...|\n",
      "|Texas, United Sta...|        31.8160381|        -99.5120986|               -0.55|          Texas, USA|                0.9|Patriots, it's TI...|\n",
      "|Calgary, Strathmo...|        51.0534234|       -114.0625892|                -0.2|             Calgary|                0.5|“Long-term care r...|\n",
      "|Bank of Queenslan...|        -32.067821|        115.8167826|                 0.0|Western Australia...|                0.5|Remember @ScottMo...|\n",
      "|Florida, United S...|        27.7567667|        -81.4639835|                -1.0|        Florida, USA|                1.0|US coronavirus su...|\n",
      "|Nationwide, Eastc...|        51.5382399|-1.7769666750000002|                0.25|          Nationwide|0.36041666666666666|@absofabucorn @ka...|\n",
      "|Melbourne, City o...|       -37.8142176|        144.9631608|                 0.0| Melbourne, Victoria|                0.0|@AnthonySabatini ...|\n",
      "|           Australia|       -24.7761086|            134.755|-0.02272727272727...|           Australia| 0.3975757575757576|NHMRC responds th...|\n",
      "|New York, United ...|        40.7127281|        -74.0060152|                -1.0|       New York, USA|                1.0|US coronavirus su...|\n",
      "|District of Colum...|       38.89379365| -76.98799757261312|                 0.0|District of Colum...|                0.0|WATCH: Speaker Pe...|\n",
      "|Edmonton, Edmonto...|         53.535411|        -113.507996| 0.10833333333333332|   Edmonton, Alberta| 0.3479166666666667|#COVID19 has \"hig...|\n",
      "|Puget Sound Commu...|        47.5963408|       -122.3241284|                -0.5|Puget Sound, Seat...|                1.0|If you need a rem...|\n",
      "|London, Southwest...|        42.9836747|        -81.2496068| 0.24242424242424243|London Ontario Ca...| 0.3707070707070707|The Middlesex-Lon...|\n",
      "|Sunrise, Broward ...|        26.1482449| -80.32888594100868|  0.2559659090909091|         Sunrise, FL| 0.6386363636363637|“There is no need...|\n",
      "|Los Angeles, Los ...|        34.0536909|       -118.2427666|                 0.5|     Los Angeles, CA|                0.5|Marvin Farr, 81, ...|\n",
      "|Lichtenstein/Sach...|        50.7556404|         12.6345621|               -0.25|Lichtenstein/Sachsen|               0.55|@RTNBA @MichaelRa...|\n",
      "|Boulder, Boulder ...|        40.0149856|       -105.2705456|             0.09375|   Boulder, Colorado|                0.4|WALL STREET BANKE...|\n",
      "|     Ontario, Canada|         50.000678|         -86.000977|-0.10833333333333334|         Ontario, CA|              0.425|'I will never for...|\n",
      "+--------------------+------------------+-------------------+--------------------+--------------------+-------------------+--------------------+\n",
      "only showing top 20 rows\n",
      "\n"
     ]
    }
   ],
   "source": [
    "from pyspark.sql import SparkSession\n",
    "spark = SparkSession.builder.appName('example').getOrCreate()\n",
    "\n",
    "df = spark.read.json(\"/Users/alexturk/School/Fall_2020/Big_Data/Final_Project/data.txt\")\n",
    "df.show()"
   ]
  },
  {
   "cell_type": "code",
   "execution_count": 3,
   "metadata": {
    "application/vnd.databricks.v1+cell": {
     "inputWidgets": {},
     "nuid": "f498f81f-2866-415a-a4dd-0e02be8c93e5",
     "showTitle": false,
     "title": ""
    }
   },
   "outputs": [
    {
     "name": "stdout",
     "output_type": "stream",
     "text": [
      "+--------------------+\n",
      "|       avg(polarity)|\n",
      "+--------------------+\n",
      "|0.040415514765762287|\n",
      "+--------------------+\n",
      "\n"
     ]
    }
   ],
   "source": [
    "df.createOrReplaceTempView(\"tweets\")\n",
    "\n",
    "spark.sql(\"SELECT AVG(polarity) FROM tweets\").show()"
   ]
  },
  {
   "cell_type": "code",
   "execution_count": 4,
   "metadata": {},
   "outputs": [
    {
     "name": "stdout",
     "output_type": "stream",
     "text": [
      "+-------------------+\n",
      "|  avg(subjectivity)|\n",
      "+-------------------+\n",
      "|0.45155454831197406|\n",
      "+-------------------+\n",
      "\n"
     ]
    }
   ],
   "source": [
    "spark.sql(\"SELECT AVG(subjectivity) FROM tweets\").show()"
   ]
  },
  {
   "cell_type": "code",
   "execution_count": 5,
   "metadata": {},
   "outputs": [
    {
     "name": "stdout",
     "output_type": "stream",
     "text": [
      "+--------------------+-----------+-----------+--------------------+--------------------+------------------+--------------------+\n",
      "|             address|        lat|       long|            polarity|         rawLocation|      subjectivity|                text|\n",
      "+--------------------+-----------+-----------+--------------------+--------------------+------------------+--------------------+\n",
      "|Bank of Queenslan...| -32.067821|115.8167826|                 0.0|Western Australia...|               0.5|Remember @ScottMo...|\n",
      "|Melbourne, City o...|-37.8142176|144.9631608|                 0.0| Melbourne, Victoria|               0.0|@AnthonySabatini ...|\n",
      "|           Australia|-24.7761086|    134.755|-0.02272727272727...|           Australia|0.3975757575757576|NHMRC responds th...|\n",
      "|Where the Wild Th...|-27.4804773|153.0120601|                 0.0|Where the wild th...|               0.0|COVID-19 is now t...|\n",
      "|Queensland, Austr...|-22.1646782|144.5844903|                 0.5|     Qld,  Australia|               0.5|Dr. Fauci, if you...|\n",
      "|Sydney, New South...|-33.8548157|151.2164539| 0.11527777777777777|Sydney, New South...|0.5111111111111111|I want you to see...|\n",
      "+--------------------+-----------+-----------+--------------------+--------------------+------------------+--------------------+\n",
      "\n"
     ]
    }
   ],
   "source": [
    "# get tweets from southern hemisphere\n",
    "spark.sql(\"SELECT * FROM tweets WHERE tweets.lat < 0\").show()"
   ]
  },
  {
   "cell_type": "code",
   "execution_count": 6,
   "metadata": {},
   "outputs": [
    {
     "name": "stdout",
     "output_type": "stream",
     "text": [
      "+-------------------+\n",
      "|  avg(subjectivity)|\n",
      "+-------------------+\n",
      "|0.31811447811447807|\n",
      "+-------------------+\n",
      "\n"
     ]
    }
   ],
   "source": [
    "spark.sql(\"SELECT avg(subjectivity) FROM tweets WHERE tweets.lat < 0\").show()"
   ]
  },
  {
   "cell_type": "code",
   "execution_count": 7,
   "metadata": {},
   "outputs": [
    {
     "name": "stdout",
     "output_type": "stream",
     "text": [
      "+-------------------+\n",
      "|  avg(subjectivity)|\n",
      "+-------------------+\n",
      "|0.45998234221918427|\n",
      "+-------------------+\n",
      "\n"
     ]
    }
   ],
   "source": [
    "spark.sql(\"SELECT avg(subjectivity) FROM tweets WHERE tweets.lat > 0\").show()"
   ]
  },
  {
   "cell_type": "code",
   "execution_count": null,
   "metadata": {},
   "outputs": [],
   "source": []
  }
 ],
 "metadata": {
  "application/vnd.databricks.v1+notebook": {
   "dashboards": [],
   "language": "python",
   "notebookName": "SparkSQL_1_BasicDataFrameExamples",
   "notebookOrigID": 2107855632687061,
   "widgets": {}
  },
  "kernelspec": {
   "display_name": "Python 3",
   "language": "python",
   "name": "python3"
  },
  "language_info": {
   "codemirror_mode": {
    "name": "ipython",
    "version": 3
   },
   "file_extension": ".py",
   "mimetype": "text/x-python",
   "name": "python",
   "nbconvert_exporter": "python",
   "pygments_lexer": "ipython3",
   "version": "3.7.4"
  }
 },
 "nbformat": 4,
 "nbformat_minor": 1
}
