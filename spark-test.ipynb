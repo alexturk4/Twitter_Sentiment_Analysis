{
 "cells": [
  {
   "cell_type": "code",
   "execution_count": 1,
   "metadata": {},
   "outputs": [],
   "source": [
    "from pyspark import SparkConf, SparkContext\n",
    "from pyspark.streaming import StreamingContext\n",
    "import json"
   ]
  },
  {
   "cell_type": "code",
   "execution_count": 2,
   "metadata": {},
   "outputs": [],
   "source": [
    "TCP_IP = 'localhost'\n",
    "TCP_PORT = 9001"
   ]
  },
  {
   "cell_type": "code",
   "execution_count": 3,
   "metadata": {},
   "outputs": [],
   "source": [
    "def processTweet(tweet):\n",
    "\n",
    "    # Here, you should implement:\n",
    "    # (i) Sentiment analysis,\n",
    "    # (ii) Get data corresponding to place where the tweet was generate (using geopy or googlemaps)\n",
    "    # (iii) Index the data using Elastic Search \n",
    "\n",
    "\n",
    "    tweetData = tweet.split(\"::\")\n",
    "\n",
    "    if len(tweetData) > 1:\n",
    "        \n",
    "        text = tweetData[1]\n",
    "        rawLocation = tweetData[0]\n",
    "\n",
    "        # (i) Apply Sentiment analysis in \"text\"\n",
    "\n",
    "\t# (ii) Get geolocation (state, country, lat, lon, etc...) from rawLocation\n",
    "\n",
    "        display(\"\\n\\n=========================\\ntweet: \", tweet)\n",
    "        display(\"Raw location from tweet status: \", rawLocation)\n",
    "        # print(\"lat: \", lat)\n",
    "        # print(\"lon: \", lon)\n",
    "        # print(\"state: \", state)\n",
    "        # print(\"country: \", country)\n",
    "        # print(\"Text: \", text)\n",
    "        # print(\"Sentiment: \", sentiment)\n",
    "        \n",
    "        data['tweets'].append({\n",
    "            'text': 'tweet',\n",
    "            'loc': 'rawLocation',\n",
    "        })\n",
    "\n",
    "\n",
    "        # (iii) Post the index on ElasticSearch or log your data in some other way (you are always free!!) \n",
    "        "
   ]
  },
  {
   "cell_type": "code",
   "execution_count": 4,
   "metadata": {},
   "outputs": [
    {
     "data": {
      "text/plain": [
       "<pyspark.conf.SparkConf at 0x7fdc5ae39f90>"
      ]
     },
     "execution_count": 4,
     "metadata": {},
     "output_type": "execute_result"
    }
   ],
   "source": [
    "# Pyspark\n",
    "# create spark configuration\n",
    "conf = SparkConf()\n",
    "conf.setAppName('TwitterApp')\n",
    "conf.setMaster('local[2]')"
   ]
  },
  {
   "cell_type": "code",
   "execution_count": 5,
   "metadata": {},
   "outputs": [],
   "source": [
    "# create spark context with the above configuration\n",
    "sc = SparkContext.getOrCreate(conf=conf)"
   ]
  },
  {
   "cell_type": "code",
   "execution_count": 6,
   "metadata": {},
   "outputs": [],
   "source": [
    "# create the Streaming Context from spark context with interval size 4 seconds\n",
    "ssc = StreamingContext(sc, 4)\n",
    "ssc.checkpoint(\"checkpoint_TwitterApp\")"
   ]
  },
  {
   "cell_type": "code",
   "execution_count": 7,
   "metadata": {},
   "outputs": [],
   "source": [
    "# read data from port 900\n",
    "dataStream = ssc.socketTextStream(TCP_IP, TCP_PORT)"
   ]
  },
  {
   "cell_type": "code",
   "execution_count": 8,
   "metadata": {},
   "outputs": [],
   "source": [
    "dataStream.foreachRDD(lambda rdd: rdd.foreach(processTweet))"
   ]
  },
  {
   "cell_type": "code",
   "execution_count": 9,
   "metadata": {},
   "outputs": [],
   "source": [
    "ssc.start()\n",
    "#ssc.awaitTermination()"
   ]
  },
  {
   "cell_type": "code",
   "execution_count": 10,
   "metadata": {},
   "outputs": [
    {
     "data": {
      "text/plain": [
       "<pyspark.streaming.dstream.DStream at 0x7fdc5aea6f90>"
      ]
     },
     "execution_count": 10,
     "metadata": {},
     "output_type": "execute_result"
    }
   ],
   "source": [
    "dataStream"
   ]
  }
 ],
 "metadata": {
  "kernelspec": {
   "display_name": "Python 3",
   "language": "python",
   "name": "python3"
  },
  "language_info": {
   "codemirror_mode": {
    "name": "ipython",
    "version": 3
   },
   "file_extension": ".py",
   "mimetype": "text/x-python",
   "name": "python",
   "nbconvert_exporter": "python",
   "pygments_lexer": "ipython3",
   "version": "3.7.4"
  }
 },
 "nbformat": 4,
 "nbformat_minor": 2
}
